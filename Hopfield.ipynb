{
 "cells": [
  {
   "cell_type": "code",
   "execution_count": 8,
   "metadata": {},
   "outputs": [],
   "source": [
    "import numpy as np\n",
    "import matplotlib.pyplot as plt\n",
    "import keras.datasets.mnist as mnist"
   ]
  },
  {
   "cell_type": "code",
   "execution_count": 9,
   "metadata": {},
   "outputs": [],
   "source": [
    "def hopfield_train(X):\n",
    "    X = X.reshape(X.shape[0], -1)\n",
    "\n",
    "    # Initialize weights with zeros\n",
    "    weights = np.zeros((X.shape[1], X.shape[1]))\n",
    "\n",
    "    # For each value in the input\n",
    "    for pattern in X:\n",
    "        weights += np.outer(pattern, pattern)\n",
    "    \"\"\"     for i in range(X.shape[1]):\n",
    "        for j in range(X.shape[1]):\n",
    "            weights[i, j] = np.sum(X[:, i] * X[:, j]) / X.shape[1] \"\"\"\n",
    "\n",
    "    # Remove the diagonal to eliminate self-connections\n",
    "    np.fill_diagonal(weights, 0)\n",
    "    return weights\n",
    "\n",
    "def hopfield_recall(X, weights, epochs=1000):\n",
    "    X = X.flatten()\n",
    "    \n",
    "    for _ in range(epochs):\n",
    "    #while True:\n",
    "        prediction = np.dot(weights, X)\n",
    "        # If the value is smaller than 0, set it to -1, otherwise set it to 1\n",
    "        prediction = np.where(prediction < 0, -1, 1)\n",
    "\n",
    "        # If the prediction is the same as the input, stop the loop\n",
    "        if np.array_equal(prediction, X):\n",
    "            print(\"Converged after\", _ + 1, \"epochs\")\n",
    "            return prediction\n",
    "\n",
    "        X = prediction\n",
    "\n",
    "    return X\n",
    "\n",
    "def compress_image_mean(img_array, block_size):\n",
    "    \"\"\"\n",
    "    Compress an image by calculating the mean of each block of pixels of size block_size x block_size.\n",
    "\n",
    "    Parameters\n",
    "    ----------\n",
    "    img_array : array\n",
    "        The input image as a numpy array\n",
    "    block_size : int\n",
    "        The size of the blocks to compress the image\n",
    "\n",
    "    Returns\n",
    "    -------\n",
    "    compressed_img_array : array\n",
    "        The compressed image as a numpy array\n",
    "    \"\"\"\n",
    "    # Get the original dimensions\n",
    "    original_height, original_width = img_array.shape[:2]\n",
    "    \n",
    "    # Calculate new dimensions\n",
    "    new_height = original_height // block_size\n",
    "    new_width = original_width // block_size\n",
    "    \n",
    "    # Initialize the compressed image array\n",
    "    compressed_img_array = np.zeros((new_height, new_width), dtype=np.uint8)\n",
    "    \n",
    "    # Compress the image by calculating the mean of each block\n",
    "    for i in range(new_height):\n",
    "        for j in range(new_width):\n",
    "            block = img_array[i*block_size:(i+1)*block_size, j*block_size:(j+1)*block_size]\n",
    "            block_mean = block.mean(axis=(0, 1))\n",
    "            compressed_img_array[i, j] = block_mean\n",
    "    \n",
    "    return compressed_img_array"
   ]
  },
  {
   "cell_type": "code",
   "execution_count": 10,
   "metadata": {},
   "outputs": [
    {
     "data": {
      "text/plain": [
       "(4, 28, 28)"
      ]
     },
     "execution_count": 10,
     "metadata": {},
     "output_type": "execute_result"
    }
   ],
   "source": [
    "digits_to_classify = [0, 1, 2, 3]\n",
    "\n",
    "num_examples = len(digits_to_classify)\n",
    "\n",
    "(X_train, y_train), (X_test, y_test) = mnist.load_data()\n",
    "\n",
    "# Obtain one example of each digit\n",
    "#training_data = np.array([X_train[y_train == i][0] for i in range(num_examples)])\n",
    "training_data = np.array([X_train[y_train == i][np.random.randint(0, len(X_train[y_train == i]))] for i in digits_to_classify])\n",
    "\n",
    "# Obtain a random example from the range of examples\n",
    "test = np.array(X_test[y_test == np.random.choice(digits_to_classify)][0])\n",
    "#test = training_data[np.random.randint(0, num_examples)]\n",
    "\n",
    "training_data.shape"
   ]
  },
  {
   "cell_type": "code",
   "execution_count": 11,
   "metadata": {},
   "outputs": [
    {
     "data": {
      "text/plain": [
       "array([[  0,   0,   0,   0,   0,   0,   0,   0,   0,   0,   0,   0,   0,\n",
       "          0,   0,   0,   0,   0,   0,   0,   0,   0,   0,   0,   0,   0,\n",
       "          0,   0],\n",
       "       [  0,   0,   0,   0,   0,   0,   0,   0,   0,   0,   0,   0,   0,\n",
       "          0,   0,   0,   0,   0,   0,   0,   0,   0,   0,   0,   0,   0,\n",
       "          0,   0],\n",
       "       [  0,   0,   0,   0,   0,   0,   0,   0,   0,   0,   0,   0,   0,\n",
       "          0,   0,   0,   0,   0,   0,   0,   0,   0,   0,   0,   0,   0,\n",
       "          0,   0],\n",
       "       [  0,   0,   0,   0,   0,   0,   0,   0,   0,   0,   0,   0,   0,\n",
       "          0,   0,   0,   0,   0,   0,   0,   0,   0,   0,   0,   0,   0,\n",
       "          0,   0],\n",
       "       [  0,   0,   0,   0,   0,   0,   0,   0,   0,   0,   0,   0, 145,\n",
       "        210, 166,  25, 148, 148,  78,  25,   0,   0,   0,   0,   0,   0,\n",
       "          0,   0],\n",
       "       [  0,   0,   0,   0,   0,   0,   0,   0,   0,   0,  15, 165, 248,\n",
       "        253, 253, 202, 253, 253, 253, 227,  72,   0,   0,   0,   0,   0,\n",
       "          0,   0],\n",
       "       [  0,   0,   0,   0,   0,   0,   0,   0,   0,   9, 193, 253, 252,\n",
       "         91, 215, 233,  91,  21, 162, 250, 233,  41,   0,   0,   0,   0,\n",
       "          0,   0],\n",
       "       [  0,   0,   0,   0,   0,   0,   0,   0,   0, 107, 254, 253,  91,\n",
       "          0, 141, 185,   0,   0,   0, 115, 255, 225,  14,   0,   0,   0,\n",
       "          0,   0],\n",
       "       [  0,   0,   0,   0,   0,   0,   0,   0,   0, 195, 254, 218,  12,\n",
       "          0,  18,  18,   0,   0,   0,   0, 122, 253, 153,   0,   0,   0,\n",
       "          0,   0],\n",
       "       [  0,   0,   0,   0,   0,   0,   0,   0,  82, 254, 231,  27,   0,\n",
       "          0,   0,   0,   0,   0,   0,   0,  36, 244, 254,  85,   0,   0,\n",
       "          0,   0],\n",
       "       [  0,   0,   0,   0,   0,   0,   0,   0, 169, 253, 176,   0,   0,\n",
       "          0,   0,   0,   0,   0,   0,   0,   0, 112, 253,  84,   0,   0,\n",
       "          0,   0],\n",
       "       [  0,   0,   0,   0,   0,   0,   0,  29, 247, 253,  53,   0,   0,\n",
       "          0,   0,   0,   0,   0,   0,   0,   0,  43, 243,  93,   0,   0,\n",
       "          0,   0],\n",
       "       [  0,   0,   0,   0,   0,   0,   0, 154, 253, 182,   0,   0,   0,\n",
       "          0,   0,   0,   0,   0,   0,   0,   0,   0, 233, 190,   0,   0,\n",
       "          0,   0],\n",
       "       [  0,   0,   0,   0,   0,   0,   0, 233, 253, 104,   0,   0,   0,\n",
       "          0,   0,   0,   0,   0,   0,   0,   0,   0, 233, 190,   0,   0,\n",
       "          0,   0],\n",
       "       [  0,   0,   0,   0,   0,   0,  50, 246, 244,  35,   0,   0,   0,\n",
       "          0,   0,   0,   0,   0,   0,   0,   0,   0, 234, 190,   0,   0,\n",
       "          0,   0],\n",
       "       [  0,   0,   0,   0,   0,   0, 165, 253, 111,   0,   0,   0,   0,\n",
       "          0,   0,   0,   0,   0,   0,   0,   0,  65, 248, 111,   0,   0,\n",
       "          0,   0],\n",
       "       [  0,   0,   0,   0,   0,  22, 222, 253,  84,   0,   0,   0,   0,\n",
       "          0,   0,   0,   0,   0,   0,   0,   4, 143, 253,  84,   0,   0,\n",
       "          0,   0],\n",
       "       [  0,   0,   0,   0,   0,  43, 253, 253,  84,   0,   0,   0,   0,\n",
       "          0,   0,   0,   0,   0,   0,   0,  70, 253, 213,  28,   0,   0,\n",
       "          0,   0],\n",
       "       [  0,   0,   0,   0,   0,   7, 201, 253,  84,   0,   0,   0,   0,\n",
       "          0,   0,   0,   0,   0,   0,  45, 237, 253,  38,   0,   0,   0,\n",
       "          0,   0],\n",
       "       [  0,   0,   0,   0,   0,   0, 174, 254, 190,   0,   0,   0,   0,\n",
       "          0,   0,   0,   0,   0,  56, 237, 248,  97,   0,   0,   0,   0,\n",
       "          0,   0],\n",
       "       [  0,   0,   0,   0,   0,   0,  57, 247, 238,  67,   0,   0,   0,\n",
       "          0,   0,   0,   0, 131, 233, 253,  97,   0,   0,   0,   0,   0,\n",
       "          0,   0],\n",
       "       [  0,   0,   0,   0,   0,   0,   0, 180, 253, 245, 172, 128, 128,\n",
       "         84, 128, 145, 233, 252, 253, 191,   0,   0,   0,   0,   0,   0,\n",
       "          0,   0],\n",
       "       [  0,   0,   0,   0,   0,   0,   0,  52, 232, 253, 254, 253, 253,\n",
       "        253, 253, 254, 253, 221, 120,  14,   0,   0,   0,   0,   0,   0,\n",
       "          0,   0],\n",
       "       [  0,   0,   0,   0,   0,   0,   0,   0,  28, 130, 210, 253, 253,\n",
       "        253, 253, 237, 113,  21,   0,   0,   0,   0,   0,   0,   0,   0,\n",
       "          0,   0],\n",
       "       [  0,   0,   0,   0,   0,   0,   0,   0,   0,   0,   0,   0,   0,\n",
       "          0,   0,   0,   0,   0,   0,   0,   0,   0,   0,   0,   0,   0,\n",
       "          0,   0],\n",
       "       [  0,   0,   0,   0,   0,   0,   0,   0,   0,   0,   0,   0,   0,\n",
       "          0,   0,   0,   0,   0,   0,   0,   0,   0,   0,   0,   0,   0,\n",
       "          0,   0],\n",
       "       [  0,   0,   0,   0,   0,   0,   0,   0,   0,   0,   0,   0,   0,\n",
       "          0,   0,   0,   0,   0,   0,   0,   0,   0,   0,   0,   0,   0,\n",
       "          0,   0],\n",
       "       [  0,   0,   0,   0,   0,   0,   0,   0,   0,   0,   0,   0,   0,\n",
       "          0,   0,   0,   0,   0,   0,   0,   0,   0,   0,   0,   0,   0,\n",
       "          0,   0]], dtype=uint8)"
      ]
     },
     "execution_count": 11,
     "metadata": {},
     "output_type": "execute_result"
    }
   ],
   "source": [
    "# Reduce the size of the image\n",
    "block_size = 1\n",
    "\n",
    "if block_size > 1 and block_size < training_data[0].shape[0]:\n",
    "    training = np.zeros((num_examples, training_data[0].shape[0] // block_size, training_data[0].shape[1] // block_size), dtype=np.uint8)\n",
    "    for i, training_example in enumerate(training_data):\n",
    "        training[i] = compress_image_mean(training_example, block_size)\n",
    "    test = compress_image_mean(test, block_size)\n",
    "else:\n",
    "    training = training_data\n",
    "\n",
    "training[0]"
   ]
  },
  {
   "cell_type": "code",
   "execution_count": 12,
   "metadata": {},
   "outputs": [
    {
     "data": {
      "text/plain": [
       "' training = training[:, 4:-4, 4:-4]\\ntest = test[4:-4, 4:-4] '"
      ]
     },
     "execution_count": 12,
     "metadata": {},
     "output_type": "execute_result"
    }
   ],
   "source": [
    "# Transfrom the data to binary\n",
    "treshold = np.mean(training)\n",
    "training = np.where(training > treshold, 1, -1)\n",
    "test = np.where(test > treshold, 1, -1)\n",
    "\n",
    "# Remove the pixels in the border that are the same for all examples\n",
    "\"\"\" training = training[:, 4:-4, 4:-4]\n",
    "test = test[4:-4, 4:-4] \"\"\""
   ]
  },
  {
   "cell_type": "code",
   "execution_count": 13,
   "metadata": {},
   "outputs": [
    {
     "data": {
      "image/png": "[encoded data removed]",
      "text/plain": [
       "<Figure size 640x480 with 4 Axes>"
      ]
     },
     "metadata": {},
     "output_type": "display_data"
    }
   ],
   "source": [
    "img_size = training[0].shape\n",
    "# Plot the first num examples\n",
    "fig, ax = plt.subplots(1, num_examples)\n",
    "for i in range(num_examples):\n",
    "    #Remove axis and labels\n",
    "    ax[i].axis('off')\n",
    "    ax[i].imshow(training[i].reshape(img_size), cmap='Greys')\n",
    "\n",
    "plt.show()"
   ]
  },
  {
   "cell_type": "code",
   "execution_count": 14,
   "metadata": {},
   "outputs": [
    {
     "name": "stdout",
     "output_type": "stream",
     "text": [
      "Converged after 2 epochs\n"
     ]
    },
    {
     "data": {
      "image/png": "[encoded data removed]",
      "text/plain": [
       "<Figure size 640x480 with 2 Axes>"
      ]
     },
     "metadata": {},
     "output_type": "display_data"
    }
   ],
   "source": [
    "# Train the network\n",
    "w = hopfield_train(training)\n",
    "pred = hopfield_recall(test, w, epochs=1000)\n",
    "\n",
    "# Create a figure with 2 images inside\n",
    "fig, ax = plt.subplots(1, 2)\n",
    "fig.suptitle(\"Hopfield network classification\")\n",
    "ax[0].set_title(\"Original image\")\n",
    "ax[0].axis('off')\n",
    "ax[0].imshow(test.reshape(img_size), cmap='Greys')\n",
    "ax[1].set_title(\"Predicted image\")\n",
    "ax[1].axis('off')\n",
    "ax[1].imshow(pred.reshape(img_size), cmap='Greys')\n",
    "plt.show()"
   ]
  }
 ],
 "metadata": {
  "kernelspec": {
   "display_name": "Python 3",
   "language": "python",
   "name": "python3"
  },
  "language_info": {
   "codemirror_mode": {
    "name": "ipython",
    "version": 3
   },
   "file_extension": ".py",
   "mimetype": "text/x-python",
   "name": "python",
   "nbconvert_exporter": "python",
   "pygments_lexer": "ipython3",
   "version": "3.12.0"
  }
 },
 "nbformat": 4,
 "nbformat_minor": 2
}
